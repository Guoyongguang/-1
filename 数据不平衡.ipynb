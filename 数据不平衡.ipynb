{
 "cells": [
  {
   "cell_type": "markdown",
   "metadata": {},
   "source": [
    "# 数据不平衡"
   ]
  },
  {
   "cell_type": "code",
   "execution_count": 1,
   "metadata": {},
   "outputs": [],
   "source": [
    "import pandas as pd\n",
    "from imblearn.over_sampling import SMOTE # 过抽样处理库SMOTE\n",
    "from imblearn.under_sampling import RandomUnderSampler # 欠抽样处理库RandomUnderSampler\n",
    "from sklearn.svm import SVC #SVM中的分类算法SVC\n",
    "from imblearn.ensemble import EasyEnsemble # 简单集成方法EasyEnsemble\n"
   ]
  },
  {
   "cell_type": "code",
   "execution_count": 53,
   "metadata": {},
   "outputs": [],
   "source": [
    "from sklearn.linear_model import LogisticRegression\n",
    "from sklearn.metrics import accuracy_score,precision_score,f1_score,roc_curve,roc_auc_score\n",
    "from sklearn.model_selection import train_test_split\n",
    "import scikitplot as skplt"
   ]
  },
  {
   "cell_type": "code",
   "execution_count": null,
   "metadata": {},
   "outputs": [],
   "source": [
    "from sklearn."
   ]
  },
  {
   "cell_type": "code",
   "execution_count": 3,
   "metadata": {},
   "outputs": [],
   "source": [
    "df=pd.read_csv(r'C:\\Users\\CDA\\机器学习-CDA\\评分卡\\WoeData.csv',encoding=\"utf8\")"
   ]
  },
  {
   "cell_type": "code",
   "execution_count": 4,
   "metadata": {
    "scrolled": true
   },
   "outputs": [
    {
     "data": {
      "text/html": [
       "<div>\n",
       "<style scoped>\n",
       "    .dataframe tbody tr th:only-of-type {\n",
       "        vertical-align: middle;\n",
       "    }\n",
       "\n",
       "    .dataframe tbody tr th {\n",
       "        vertical-align: top;\n",
       "    }\n",
       "\n",
       "    .dataframe thead th {\n",
       "        text-align: right;\n",
       "    }\n",
       "</style>\n",
       "<table border=\"1\" class=\"dataframe\">\n",
       "  <thead>\n",
       "    <tr style=\"text-align: right;\">\n",
       "      <th></th>\n",
       "      <th>RevolvingUtilizationOfUnsecuredLines</th>\n",
       "      <th>age</th>\n",
       "      <th>NumberOfTime30-59DaysPastDueNotWorse</th>\n",
       "      <th>DebtRatio</th>\n",
       "      <th>MonthlyIncome</th>\n",
       "      <th>NumberOfOpenCreditLinesAndLoans</th>\n",
       "      <th>NumberOfTimes90DaysLate</th>\n",
       "      <th>NumberRealEstateLoansOrLines</th>\n",
       "      <th>NumberOfTime60-89DaysPastDueNotWorse</th>\n",
       "      <th>NumberOfDependents</th>\n",
       "      <th>SeriousDlqin2yrs</th>\n",
       "    </tr>\n",
       "  </thead>\n",
       "  <tbody>\n",
       "    <tr>\n",
       "      <th>0</th>\n",
       "      <td>-1.180084</td>\n",
       "      <td>-0.116180</td>\n",
       "      <td>0.524292</td>\n",
       "      <td>0.115927</td>\n",
       "      <td>0.123763</td>\n",
       "      <td>0.132735</td>\n",
       "      <td>0.381095</td>\n",
       "      <td>0.239587</td>\n",
       "      <td>0.268163</td>\n",
       "      <td>-0.223785</td>\n",
       "      <td>0</td>\n",
       "    </tr>\n",
       "    <tr>\n",
       "      <th>1</th>\n",
       "      <td>1.229443</td>\n",
       "      <td>0.269706</td>\n",
       "      <td>0.524292</td>\n",
       "      <td>0.087737</td>\n",
       "      <td>-0.360108</td>\n",
       "      <td>-0.037671</td>\n",
       "      <td>0.381095</td>\n",
       "      <td>0.239587</td>\n",
       "      <td>0.268163</td>\n",
       "      <td>0.154085</td>\n",
       "      <td>0</td>\n",
       "    </tr>\n",
       "    <tr>\n",
       "      <th>2</th>\n",
       "      <td>1.229443</td>\n",
       "      <td>-0.278619</td>\n",
       "      <td>-0.893231</td>\n",
       "      <td>0.087737</td>\n",
       "      <td>-0.360108</td>\n",
       "      <td>-0.037671</td>\n",
       "      <td>0.381095</td>\n",
       "      <td>-0.250985</td>\n",
       "      <td>0.268163</td>\n",
       "      <td>0.154085</td>\n",
       "      <td>0</td>\n",
       "    </tr>\n",
       "    <tr>\n",
       "      <th>3</th>\n",
       "      <td>0.190773</td>\n",
       "      <td>0.269706</td>\n",
       "      <td>0.524292</td>\n",
       "      <td>-0.473036</td>\n",
       "      <td>0.247881</td>\n",
       "      <td>0.132735</td>\n",
       "      <td>0.381095</td>\n",
       "      <td>0.239587</td>\n",
       "      <td>0.268163</td>\n",
       "      <td>-0.111830</td>\n",
       "      <td>0</td>\n",
       "    </tr>\n",
       "    <tr>\n",
       "      <th>4</th>\n",
       "      <td>1.229443</td>\n",
       "      <td>-0.278619</td>\n",
       "      <td>0.524292</td>\n",
       "      <td>0.087737</td>\n",
       "      <td>0.456591</td>\n",
       "      <td>0.132735</td>\n",
       "      <td>0.381095</td>\n",
       "      <td>0.239587</td>\n",
       "      <td>0.268163</td>\n",
       "      <td>-0.111830</td>\n",
       "      <td>0</td>\n",
       "    </tr>\n",
       "  </tbody>\n",
       "</table>\n",
       "</div>"
      ],
      "text/plain": [
       "   RevolvingUtilizationOfUnsecuredLines       age  \\\n",
       "0                             -1.180084 -0.116180   \n",
       "1                              1.229443  0.269706   \n",
       "2                              1.229443 -0.278619   \n",
       "3                              0.190773  0.269706   \n",
       "4                              1.229443 -0.278619   \n",
       "\n",
       "   NumberOfTime30-59DaysPastDueNotWorse  DebtRatio  MonthlyIncome  \\\n",
       "0                              0.524292   0.115927       0.123763   \n",
       "1                              0.524292   0.087737      -0.360108   \n",
       "2                             -0.893231   0.087737      -0.360108   \n",
       "3                              0.524292  -0.473036       0.247881   \n",
       "4                              0.524292   0.087737       0.456591   \n",
       "\n",
       "   NumberOfOpenCreditLinesAndLoans  NumberOfTimes90DaysLate  \\\n",
       "0                         0.132735                 0.381095   \n",
       "1                        -0.037671                 0.381095   \n",
       "2                        -0.037671                 0.381095   \n",
       "3                         0.132735                 0.381095   \n",
       "4                         0.132735                 0.381095   \n",
       "\n",
       "   NumberRealEstateLoansOrLines  NumberOfTime60-89DaysPastDueNotWorse  \\\n",
       "0                      0.239587                              0.268163   \n",
       "1                      0.239587                              0.268163   \n",
       "2                     -0.250985                              0.268163   \n",
       "3                      0.239587                              0.268163   \n",
       "4                      0.239587                              0.268163   \n",
       "\n",
       "   NumberOfDependents  SeriousDlqin2yrs  \n",
       "0           -0.223785                 0  \n",
       "1            0.154085                 0  \n",
       "2            0.154085                 0  \n",
       "3           -0.111830                 0  \n",
       "4           -0.111830                 0  "
      ]
     },
     "execution_count": 4,
     "metadata": {},
     "output_type": "execute_result"
    }
   ],
   "source": [
    "df.head()"
   ]
  },
  {
   "cell_type": "code",
   "execution_count": 5,
   "metadata": {},
   "outputs": [],
   "source": [
    "df.dropna(inplace=True)"
   ]
  },
  {
   "cell_type": "code",
   "execution_count": 6,
   "metadata": {},
   "outputs": [],
   "source": [
    "x = df.iloc[:, :-1] # 切片，得到输入x\n",
    "y = df.iloc[:, -1] # 切片，得到标签y"
   ]
  },
  {
   "cell_type": "code",
   "execution_count": 7,
   "metadata": {
    "collapsed": true
   },
   "outputs": [
    {
     "name": "stdout",
     "output_type": "stream",
     "text": [
      "                  RevolvingUtilizationOfUnsecuredLines    age  \\\n",
      "SeriousDlqin2yrs                                                \n",
      "0                                                94953  94953   \n",
      "1                                                 6794   6794   \n",
      "\n",
      "                  NumberOfTime30-59DaysPastDueNotWorse  DebtRatio  \\\n",
      "SeriousDlqin2yrs                                                    \n",
      "0                                                94953      94953   \n",
      "1                                                 6794       6794   \n",
      "\n",
      "                  MonthlyIncome  NumberOfOpenCreditLinesAndLoans  \\\n",
      "SeriousDlqin2yrs                                                   \n",
      "0                         94953                            94953   \n",
      "1                          6794                             6794   \n",
      "\n",
      "                  NumberOfTimes90DaysLate  NumberRealEstateLoansOrLines  \\\n",
      "SeriousDlqin2yrs                                                          \n",
      "0                                   94953                         94953   \n",
      "1                                    6794                          6794   \n",
      "\n",
      "                  NumberOfTime60-89DaysPastDueNotWorse  NumberOfDependents  \n",
      "SeriousDlqin2yrs                                                            \n",
      "0                                                94953               94953  \n",
      "1                                                 6794                6794  \n"
     ]
    }
   ],
   "source": [
    "groupby_data_orgianl = df.groupby('SeriousDlqin2yrs').count()\n",
    "print (groupby_data_orgianl) "
   ]
  },
  {
   "cell_type": "markdown",
   "metadata": {},
   "source": [
    "## 使用SMOTE方法进行过抽样处理"
   ]
  },
  {
   "cell_type": "code",
   "execution_count": 8,
   "metadata": {},
   "outputs": [],
   "source": [
    "model_smote = SMOTE() # 建立SMOTE模型对象"
   ]
  },
  {
   "cell_type": "code",
   "execution_count": 9,
   "metadata": {},
   "outputs": [],
   "source": [
    "x_smote,y_smote=model_smote.fit_sample(x,y)"
   ]
  },
  {
   "cell_type": "code",
   "execution_count": 10,
   "metadata": {},
   "outputs": [],
   "source": [
    "x_smote=pd.DataFrame(x_smote,columns=x.columns)\n",
    "y_smote=pd.DataFrame(y_smote,columns=['SeriousDlqin2yrs'])"
   ]
  },
  {
   "cell_type": "code",
   "execution_count": 11,
   "metadata": {},
   "outputs": [
    {
     "data": {
      "text/plain": [
       "1    94953\n",
       "0    94953\n",
       "Name: SeriousDlqin2yrs, dtype: int64"
      ]
     },
     "execution_count": 11,
     "metadata": {},
     "output_type": "execute_result"
    }
   ],
   "source": [
    "y_smote['SeriousDlqin2yrs'].value_counts()"
   ]
  },
  {
   "cell_type": "markdown",
   "metadata": {},
   "source": [
    "## 使用RandomUnderSampler方法进行欠抽样处理"
   ]
  },
  {
   "cell_type": "code",
   "execution_count": 13,
   "metadata": {},
   "outputs": [],
   "source": [
    "model_RandomUnderSampler = RandomUnderSampler() # 建立RandomUnderSampler模型对象\n",
    "x_RandomUnderSampler, y_RandomUnderSampler =model_RandomUnderSampler.fit_sample(x,y) # 输入数据并作欠抽样处理\n",
    "x_RandomUnderSampler =pd.DataFrame(x_RandomUnderSampler,columns=x.columns)\n",
    "# 将数据转换为数据框并命名列名\n",
    "y_RandomUnderSampler =pd.DataFrame(y_RandomUnderSampler,columns=['SeriousDlqin2yrs']) # 将数据转换为数据框并命名列名"
   ]
  },
  {
   "cell_type": "code",
   "execution_count": 14,
   "metadata": {
    "scrolled": true
   },
   "outputs": [
    {
     "data": {
      "text/plain": [
       "1    6794\n",
       "0    6794\n",
       "Name: SeriousDlqin2yrs, dtype: int64"
      ]
     },
     "execution_count": 14,
     "metadata": {},
     "output_type": "execute_result"
    }
   ],
   "source": [
    "y_RandomUnderSampler['SeriousDlqin2yrs'].value_counts()"
   ]
  },
  {
   "cell_type": "markdown",
   "metadata": {},
   "source": [
    "## 使用SVM的权重调节处理不均衡样本"
   ]
  },
  {
   "cell_type": "code",
   "execution_count": 15,
   "metadata": {},
   "outputs": [
    {
     "data": {
      "text/plain": [
       "SVC(C=1.0, cache_size=200, class_weight='balanced', coef0=0.0,\n",
       "    decision_function_shape='ovr', degree=1, gamma='auto_deprecated',\n",
       "    kernel='linear', max_iter=-1, probability=False, random_state=None,\n",
       "    shrinking=True, tol=0.001, verbose=False)"
      ]
     },
     "execution_count": 15,
     "metadata": {},
     "output_type": "execute_result"
    }
   ],
   "source": [
    "model_svm = SVC(kernel='linear',class_weight='balanced',degree=1) # 创建SVC模型对象并指定类别权重\n",
    "model_svm.fit(x, y) # 输入x和y并训练模型"
   ]
  },
  {
   "cell_type": "markdown",
   "metadata": {},
   "source": [
    "## 使用集成方法EasyEnsemble处理不均衡样本"
   ]
  },
  {
   "cell_type": "code",
   "execution_count": 18,
   "metadata": {
    "collapsed": true
   },
   "outputs": [
    {
     "name": "stderr",
     "output_type": "stream",
     "text": [
      "C:\\Users\\CDA\\Anaconda3\\lib\\site-packages\\sklearn\\utils\\deprecation.py:66: DeprecationWarning: Class EasyEnsemble is deprecated; EasyEnsemble is deprecated in 0.4 and will be removed in 0.6. Use EasyEnsembleClassifier instead.\n",
      "  warnings.warn(msg, category=DeprecationWarning)\n"
     ]
    },
    {
     "name": "stdout",
     "output_type": "stream",
     "text": [
      "(10, 13588, 10)\n",
      "(10, 13588)\n"
     ]
    }
   ],
   "source": [
    "model_EasyEnsemble = EasyEnsemble() # 建立EasyEnsemble模型对象\n",
    "x_EasyEnsemble, y_EasyEnsemble=model_EasyEnsemble.fit_sample(x, y) # 输入数据并应用集成方法处理\n",
    "print (x_EasyEnsemble.shape) # 打印输出集成方法处理后的x样本集概况\n",
    "print (y_EasyEnsemble.shape) # 打印输出集成方法处理后的y标签集概况"
   ]
  },
  {
   "cell_type": "code",
   "execution_count": 25,
   "metadata": {},
   "outputs": [],
   "source": [
    "index_num = 1 # 设置抽样样本集索引\n",
    "x_EasyEnsemble_resample =pd.DataFrame(x_EasyEnsemble[index_num],columns=x.columns)\n",
    "# 将数据转换为数据框并命名列名\n",
    "y_EasyEnsemble_resample =pd.DataFrame(y_EasyEnsemble[index_num],columns=['SeriousDlqin2yrs']) # 将数据转换为数据框并命名列名"
   ]
  },
  {
   "cell_type": "markdown",
   "metadata": {},
   "source": [
    "# 逻辑回归 "
   ]
  },
  {
   "cell_type": "markdown",
   "metadata": {},
   "source": [
    "## SMOTE方法"
   ]
  },
  {
   "cell_type": "code",
   "execution_count": 27,
   "metadata": {},
   "outputs": [],
   "source": [
    "xtrain_smo,xtest_smo,ytrain_smo,ytest_smo=train_test_split(x_smote,y_smote,test_size=0.3,random_state=420)"
   ]
  },
  {
   "cell_type": "code",
   "execution_count": 28,
   "metadata": {
    "scrolled": true
   },
   "outputs": [
    {
     "name": "stderr",
     "output_type": "stream",
     "text": [
      "C:\\Users\\CDA\\Anaconda3\\lib\\site-packages\\sklearn\\linear_model\\logistic.py:432: FutureWarning: Default solver will be changed to 'lbfgs' in 0.22. Specify a solver to silence this warning.\n",
      "  FutureWarning)\n",
      "C:\\Users\\CDA\\Anaconda3\\lib\\site-packages\\sklearn\\utils\\validation.py:724: DataConversionWarning: A column-vector y was passed when a 1d array was expected. Please change the shape of y to (n_samples, ), for example using ravel().\n",
      "  y = column_or_1d(y, warn=True)\n"
     ]
    }
   ],
   "source": [
    "clf=LogisticRegression().fit(xtrain_smo,ytrain_smo)"
   ]
  },
  {
   "cell_type": "code",
   "execution_count": 36,
   "metadata": {},
   "outputs": [
    {
     "name": "stdout",
     "output_type": "stream",
     "text": [
      "0.7749947342554238\n",
      "0.7353269203959292\n",
      "0.7669908206852677\n"
     ]
    }
   ],
   "source": [
    "print(accuracy_score(clf.predict(xtest_smo),ytest_smo))\n",
    "print(precision_score(clf.predict(xtest_smo),ytest_smo))\n",
    "print(f1_score(clf.predict(xtest_smo),ytest_smo))"
   ]
  },
  {
   "cell_type": "code",
   "execution_count": 34,
   "metadata": {
    "collapsed": true
   },
   "outputs": [
    {
     "data": {
      "text/plain": [
       "<matplotlib.axes._subplots.AxesSubplot at 0x24bf8438>"
      ]
     },
     "execution_count": 34,
     "metadata": {},
     "output_type": "execute_result"
    },
    {
     "data": {
      "image/png": "[encoded data removed]",
      "text/plain": [
       "<Figure size 432x288 with 1 Axes>"
      ]
     },
     "metadata": {
      "needs_background": "light"
     },
     "output_type": "display_data"
    }
   ],
   "source": [
    "pre=clf.predict_proba(xtest_smo)\n",
    "pre_df = pd.DataFrame(pre,columns=[0,1])\n",
    "skplt.metrics.plot_roc(ytest_smo,pre_df,plot_micro=False,plot_macro=False)"
   ]
  },
  {
   "cell_type": "markdown",
   "metadata": {},
   "source": [
    "## RandomUnderSampler方法"
   ]
  },
  {
   "cell_type": "code",
   "execution_count": 37,
   "metadata": {},
   "outputs": [],
   "source": [
    "xtrain_rand,xtest_rand,ytrain_rand,ytest_rand=train_test_split(x_RandomUnderSampler, y_RandomUnderSampler,test_size=0.3,random_state=420)"
   ]
  },
  {
   "cell_type": "code",
   "execution_count": 38,
   "metadata": {},
   "outputs": [
    {
     "name": "stderr",
     "output_type": "stream",
     "text": [
      "C:\\Users\\CDA\\Anaconda3\\lib\\site-packages\\sklearn\\linear_model\\logistic.py:432: FutureWarning: Default solver will be changed to 'lbfgs' in 0.22. Specify a solver to silence this warning.\n",
      "  FutureWarning)\n",
      "C:\\Users\\CDA\\Anaconda3\\lib\\site-packages\\sklearn\\utils\\validation.py:724: DataConversionWarning: A column-vector y was passed when a 1d array was expected. Please change the shape of y to (n_samples, ), for example using ravel().\n",
      "  y = column_or_1d(y, warn=True)\n"
     ]
    }
   ],
   "source": [
    "clf1=LogisticRegression().fit(xtrain_rand,ytrain_rand)"
   ]
  },
  {
   "cell_type": "code",
   "execution_count": 39,
   "metadata": {},
   "outputs": [
    {
     "name": "stdout",
     "output_type": "stream",
     "text": [
      "0.7662496934020113\n",
      "0.7363013698630136\n",
      "0.759525611910169\n"
     ]
    }
   ],
   "source": [
    "print(accuracy_score(clf.predict(xtest_rand),ytest_rand))\n",
    "print(precision_score(clf.predict(xtest_rand),ytest_rand))\n",
    "print(f1_score(clf.predict(xtest_rand),ytest_rand))"
   ]
  },
  {
   "cell_type": "code",
   "execution_count": 40,
   "metadata": {
    "collapsed": true
   },
   "outputs": [
    {
     "data": {
      "text/plain": [
       "<matplotlib.axes._subplots.AxesSubplot at 0x24e23588>"
      ]
     },
     "execution_count": 40,
     "metadata": {},
     "output_type": "execute_result"
    },
    {
     "data": {
      "image/png": "[encoded data removed]",
      "text/plain": [
       "<Figure size 432x288 with 1 Axes>"
      ]
     },
     "metadata": {
      "needs_background": "light"
     },
     "output_type": "display_data"
    }
   ],
   "source": [
    "pre1=clf1.predict_proba(xtest_rand)\n",
    "pre_df1 = pd.DataFrame(pre1,columns=[0,1])\n",
    "skplt.metrics.plot_roc(ytest_rand,pre_df1,plot_micro=False,plot_macro=False)"
   ]
  },
  {
   "cell_type": "markdown",
   "metadata": {},
   "source": [
    "## 集成方法EasyEnsemble"
   ]
  },
  {
   "cell_type": "code",
   "execution_count": 43,
   "metadata": {},
   "outputs": [
    {
     "data": {
      "text/plain": [
       "10"
      ]
     },
     "execution_count": 43,
     "metadata": {},
     "output_type": "execute_result"
    }
   ],
   "source": [
    "x_EasyEnsemble.shape[2]"
   ]
  },
  {
   "cell_type": "code",
   "execution_count": 44,
   "metadata": {
    "collapsed": true
   },
   "outputs": [
    {
     "name": "stderr",
     "output_type": "stream",
     "text": [
      "C:\\Users\\CDA\\Anaconda3\\lib\\site-packages\\sklearn\\linear_model\\logistic.py:432: FutureWarning: Default solver will be changed to 'lbfgs' in 0.22. Specify a solver to silence this warning.\n",
      "  FutureWarning)\n",
      "C:\\Users\\CDA\\Anaconda3\\lib\\site-packages\\sklearn\\utils\\validation.py:724: DataConversionWarning: A column-vector y was passed when a 1d array was expected. Please change the shape of y to (n_samples, ), for example using ravel().\n",
      "  y = column_or_1d(y, warn=True)\n",
      "C:\\Users\\CDA\\Anaconda3\\lib\\site-packages\\sklearn\\linear_model\\logistic.py:432: FutureWarning: Default solver will be changed to 'lbfgs' in 0.22. Specify a solver to silence this warning.\n",
      "  FutureWarning)\n",
      "C:\\Users\\CDA\\Anaconda3\\lib\\site-packages\\sklearn\\utils\\validation.py:724: DataConversionWarning: A column-vector y was passed when a 1d array was expected. Please change the shape of y to (n_samples, ), for example using ravel().\n",
      "  y = column_or_1d(y, warn=True)\n",
      "C:\\Users\\CDA\\Anaconda3\\lib\\site-packages\\sklearn\\linear_model\\logistic.py:432: FutureWarning: Default solver will be changed to 'lbfgs' in 0.22. Specify a solver to silence this warning.\n",
      "  FutureWarning)\n",
      "C:\\Users\\CDA\\Anaconda3\\lib\\site-packages\\sklearn\\utils\\validation.py:724: DataConversionWarning: A column-vector y was passed when a 1d array was expected. Please change the shape of y to (n_samples, ), for example using ravel().\n",
      "  y = column_or_1d(y, warn=True)\n",
      "C:\\Users\\CDA\\Anaconda3\\lib\\site-packages\\sklearn\\linear_model\\logistic.py:432: FutureWarning: Default solver will be changed to 'lbfgs' in 0.22. Specify a solver to silence this warning.\n",
      "  FutureWarning)\n",
      "C:\\Users\\CDA\\Anaconda3\\lib\\site-packages\\sklearn\\utils\\validation.py:724: DataConversionWarning: A column-vector y was passed when a 1d array was expected. Please change the shape of y to (n_samples, ), for example using ravel().\n",
      "  y = column_or_1d(y, warn=True)\n",
      "C:\\Users\\CDA\\Anaconda3\\lib\\site-packages\\sklearn\\linear_model\\logistic.py:432: FutureWarning: Default solver will be changed to 'lbfgs' in 0.22. Specify a solver to silence this warning.\n",
      "  FutureWarning)\n",
      "C:\\Users\\CDA\\Anaconda3\\lib\\site-packages\\sklearn\\utils\\validation.py:724: DataConversionWarning: A column-vector y was passed when a 1d array was expected. Please change the shape of y to (n_samples, ), for example using ravel().\n",
      "  y = column_or_1d(y, warn=True)\n",
      "C:\\Users\\CDA\\Anaconda3\\lib\\site-packages\\sklearn\\linear_model\\logistic.py:432: FutureWarning: Default solver will be changed to 'lbfgs' in 0.22. Specify a solver to silence this warning.\n",
      "  FutureWarning)\n",
      "C:\\Users\\CDA\\Anaconda3\\lib\\site-packages\\sklearn\\utils\\validation.py:724: DataConversionWarning: A column-vector y was passed when a 1d array was expected. Please change the shape of y to (n_samples, ), for example using ravel().\n",
      "  y = column_or_1d(y, warn=True)\n",
      "C:\\Users\\CDA\\Anaconda3\\lib\\site-packages\\sklearn\\linear_model\\logistic.py:432: FutureWarning: Default solver will be changed to 'lbfgs' in 0.22. Specify a solver to silence this warning.\n",
      "  FutureWarning)\n",
      "C:\\Users\\CDA\\Anaconda3\\lib\\site-packages\\sklearn\\utils\\validation.py:724: DataConversionWarning: A column-vector y was passed when a 1d array was expected. Please change the shape of y to (n_samples, ), for example using ravel().\n",
      "  y = column_or_1d(y, warn=True)\n",
      "C:\\Users\\CDA\\Anaconda3\\lib\\site-packages\\sklearn\\linear_model\\logistic.py:432: FutureWarning: Default solver will be changed to 'lbfgs' in 0.22. Specify a solver to silence this warning.\n",
      "  FutureWarning)\n",
      "C:\\Users\\CDA\\Anaconda3\\lib\\site-packages\\sklearn\\utils\\validation.py:724: DataConversionWarning: A column-vector y was passed when a 1d array was expected. Please change the shape of y to (n_samples, ), for example using ravel().\n",
      "  y = column_or_1d(y, warn=True)\n",
      "C:\\Users\\CDA\\Anaconda3\\lib\\site-packages\\sklearn\\linear_model\\logistic.py:432: FutureWarning: Default solver will be changed to 'lbfgs' in 0.22. Specify a solver to silence this warning.\n",
      "  FutureWarning)\n",
      "C:\\Users\\CDA\\Anaconda3\\lib\\site-packages\\sklearn\\utils\\validation.py:724: DataConversionWarning: A column-vector y was passed when a 1d array was expected. Please change the shape of y to (n_samples, ), for example using ravel().\n",
      "  y = column_or_1d(y, warn=True)\n",
      "C:\\Users\\CDA\\Anaconda3\\lib\\site-packages\\sklearn\\linear_model\\logistic.py:432: FutureWarning: Default solver will be changed to 'lbfgs' in 0.22. Specify a solver to silence this warning.\n",
      "  FutureWarning)\n",
      "C:\\Users\\CDA\\Anaconda3\\lib\\site-packages\\sklearn\\utils\\validation.py:724: DataConversionWarning: A column-vector y was passed when a 1d array was expected. Please change the shape of y to (n_samples, ), for example using ravel().\n",
      "  y = column_or_1d(y, warn=True)\n"
     ]
    }
   ],
   "source": [
    "score1=[]\n",
    "score2=[]\n",
    "score3=[]\n",
    "for i in range(x_EasyEnsemble.shape[2]):\n",
    "    x_EasyEnsemble_resample =pd.DataFrame(x_EasyEnsemble[i],columns=x.columns)\n",
    "    # 将数据转换为数据框并命名列名\n",
    "    y_EasyEnsemble_resample =pd.DataFrame(y_EasyEnsemble[i],columns=['SeriousDlqin2yrs'])\n",
    "    xtrain_easy,xtest_easy,ytrain_easy,ytest_easy=train_test_split(x_EasyEnsemble_resample,y_EasyEnsemble_resample ,test_size=0.3,random_state=420)\n",
    "    clf1=LogisticRegression().fit(xtrain_easy,ytrain_easy)\n",
    "    score1.append(accuracy_score(clf.predict(xtest_easy),ytest_easy))\n",
    "    score2.append(accuracy_score(clf.predict(xtest_easy),ytest_easy))\n",
    "    score3.append(accuracy_score(clf.predict(xtest_easy),ytest_easy))\n",
    "    "
   ]
  },
  {
   "cell_type": "code",
   "execution_count": 46,
   "metadata": {},
   "outputs": [],
   "source": [
    "import matplotlib.pyplot as plt"
   ]
  },
  {
   "cell_type": "code",
   "execution_count": 50,
   "metadata": {
    "collapsed": true
   },
   "outputs": [
    {
     "data": {
      "text/plain": [
       "[<matplotlib.lines.Line2D at 0x24dad908>]"
      ]
     },
     "execution_count": 50,
     "metadata": {},
     "output_type": "execute_result"
    },
    {
     "data": {
      "image/png": "[encoded data removed]",
      "text/plain": [
       "<Figure size 432x432 with 1 Axes>"
      ]
     },
     "metadata": {
      "needs_background": "light"
     },
     "output_type": "display_data"
    }
   ],
   "source": [
    "plt.figure(figsize=(6,6))\n",
    "plt.plot(range(10),score1,c='r')\n",
    "plt.plot(range(10),score2,c='b')"
   ]
  },
  {
   "cell_type": "code",
   "execution_count": null,
   "metadata": {},
   "outputs": [],
   "source": []
  }
 ],
 "metadata": {
  "kernelspec": {
   "display_name": "Python 3",
   "language": "python",
   "name": "python3"
  },
  "language_info": {
   "codemirror_mode": {
    "name": "ipython",
    "version": 3
   },
   "file_extension": ".py",
   "mimetype": "text/x-python",
   "name": "python",
   "nbconvert_exporter": "python",
   "pygments_lexer": "ipython3",
   "version": "3.7.3"
  },
  "toc": {
   "base_numbering": 1,
   "nav_menu": {},
   "number_sections": true,
   "sideBar": true,
   "skip_h1_title": false,
   "title_cell": "Table of Contents",
   "title_sidebar": "Contents",
   "toc_cell": false,
   "toc_position": {},
   "toc_section_display": true,
   "toc_window_display": false
  }
 },
 "nbformat": 4,
 "nbformat_minor": 2
}
